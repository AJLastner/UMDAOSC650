{
  "nbformat": 4,
  "nbformat_minor": 0,
  "metadata": {
    "colab": {
      "provenance": [],
      "toc_visible": true,
      "include_colab_link": true
    },
    "kernelspec": {
      "name": "python3",
      "display_name": "Python 3"
    },
    "language_info": {
      "name": "python"
    }
  },
  "cells": [
    {
      "cell_type": "markdown",
      "metadata": {
        "id": "view-in-github",
        "colab_type": "text"
      },
      "source": [
        "<a href=\"https://colab.research.google.com/github/AJLastner/UMDAOSC650/blob/main/firstrnnX.ipynb\" target=\"_parent\"><img src=\"https://colab.research.google.com/assets/colab-badge.svg\" alt=\"Open In Colab\"/></a>"
      ]
    },
    {
      "cell_type": "markdown",
      "source": [
        "# LSTM\n",
        "\n",
        "An example using ONI (Oceanic Nino Index).\n",
        "\n",
        "Let's predict a future ONI value using four previous values.\n",
        "\n",
        "First, we will tackle a Many (4 input time steps) to One (1 future time step) framework.\n",
        "\n",
        "Second, we will tackle a Many (4 input time steps) to Many (Y future time steps) framework. The Many-to-Many framework does not need to be Tx==Ty (but can be)."
      ],
      "metadata": {
        "id": "2wbxelrgNBGe"
      }
    },
    {
      "cell_type": "code",
      "execution_count": 1,
      "metadata": {
        "id": "p-cre9b5l0WQ"
      },
      "outputs": [],
      "source": [
        "import numpy as np\n",
        "import matplotlib.pyplot as plt\n",
        "import pandas as pd\n",
        "from sklearn.preprocessing import MinMaxScaler\n",
        "from keras.models import Sequential\n",
        "from keras.layers import LSTM, Dense, Dropout, Activation, TimeDistributed, RepeatVector\n",
        "import keras\n",
        "from keras.src.preprocessing.sequence import TimeseriesGenerator\n",
        "# from google.colab import drive\n",
        "# drive.mount('/content/drive')"
      ]
    },
    {
      "cell_type": "code",
      "source": [
        "# reading dataset from NOAA online\n",
        "dataset = pd.read_csv(\n",
        "    'http://www.cpc.ncep.noaa.gov/data/indices/oni.ascii.txt',\n",
        "    delim_whitespace=True)"
      ],
      "metadata": {
        "id": "iKKGgzDJmBMD"
      },
      "execution_count": 2,
      "outputs": []
    },
    {
      "cell_type": "code",
      "source": [
        "# data features include seasons, year, total SST (C), and ONI (ENSO index)\n",
        "dataset.head()"
      ],
      "metadata": {
        "colab": {
          "base_uri": "https://localhost:8080/",
          "height": 206
        },
        "id": "_lFFxKALqnlb",
        "outputId": "05289933-168e-496b-f7f6-5fdaede86f36"
      },
      "execution_count": 3,
      "outputs": [
        {
          "output_type": "execute_result",
          "data": {
            "text/plain": [
              "  SEAS    YR  TOTAL  ANOM\n",
              "0  DJF  1950  24.72 -1.53\n",
              "1  JFM  1950  25.17 -1.34\n",
              "2  FMA  1950  25.75 -1.16\n",
              "3  MAM  1950  26.12 -1.18\n",
              "4  AMJ  1950  26.32 -1.07"
            ],
            "text/html": [
              "\n",
              "  <div id=\"df-71364664-bdf1-47e1-a3f8-c4588d2abcfc\" class=\"colab-df-container\">\n",
              "    <div>\n",
              "<style scoped>\n",
              "    .dataframe tbody tr th:only-of-type {\n",
              "        vertical-align: middle;\n",
              "    }\n",
              "\n",
              "    .dataframe tbody tr th {\n",
              "        vertical-align: top;\n",
              "    }\n",
              "\n",
              "    .dataframe thead th {\n",
              "        text-align: right;\n",
              "    }\n",
              "</style>\n",
              "<table border=\"1\" class=\"dataframe\">\n",
              "  <thead>\n",
              "    <tr style=\"text-align: right;\">\n",
              "      <th></th>\n",
              "      <th>SEAS</th>\n",
              "      <th>YR</th>\n",
              "      <th>TOTAL</th>\n",
              "      <th>ANOM</th>\n",
              "    </tr>\n",
              "  </thead>\n",
              "  <tbody>\n",
              "    <tr>\n",
              "      <th>0</th>\n",
              "      <td>DJF</td>\n",
              "      <td>1950</td>\n",
              "      <td>24.72</td>\n",
              "      <td>-1.53</td>\n",
              "    </tr>\n",
              "    <tr>\n",
              "      <th>1</th>\n",
              "      <td>JFM</td>\n",
              "      <td>1950</td>\n",
              "      <td>25.17</td>\n",
              "      <td>-1.34</td>\n",
              "    </tr>\n",
              "    <tr>\n",
              "      <th>2</th>\n",
              "      <td>FMA</td>\n",
              "      <td>1950</td>\n",
              "      <td>25.75</td>\n",
              "      <td>-1.16</td>\n",
              "    </tr>\n",
              "    <tr>\n",
              "      <th>3</th>\n",
              "      <td>MAM</td>\n",
              "      <td>1950</td>\n",
              "      <td>26.12</td>\n",
              "      <td>-1.18</td>\n",
              "    </tr>\n",
              "    <tr>\n",
              "      <th>4</th>\n",
              "      <td>AMJ</td>\n",
              "      <td>1950</td>\n",
              "      <td>26.32</td>\n",
              "      <td>-1.07</td>\n",
              "    </tr>\n",
              "  </tbody>\n",
              "</table>\n",
              "</div>\n",
              "    <div class=\"colab-df-buttons\">\n",
              "\n",
              "  <div class=\"colab-df-container\">\n",
              "    <button class=\"colab-df-convert\" onclick=\"convertToInteractive('df-71364664-bdf1-47e1-a3f8-c4588d2abcfc')\"\n",
              "            title=\"Convert this dataframe to an interactive table.\"\n",
              "            style=\"display:none;\">\n",
              "\n",
              "  <svg xmlns=\"http://www.w3.org/2000/svg\" height=\"24px\" viewBox=\"0 -960 960 960\">\n",
              "    <path d=\"M120-120v-720h720v720H120Zm60-500h600v-160H180v160Zm220 220h160v-160H400v160Zm0 220h160v-160H400v160ZM180-400h160v-160H180v160Zm440 0h160v-160H620v160ZM180-180h160v-160H180v160Zm440 0h160v-160H620v160Z\"/>\n",
              "  </svg>\n",
              "    </button>\n",
              "\n",
              "  <style>\n",
              "    .colab-df-container {\n",
              "      display:flex;\n",
              "      gap: 12px;\n",
              "    }\n",
              "\n",
              "    .colab-df-convert {\n",
              "      background-color: #E8F0FE;\n",
              "      border: none;\n",
              "      border-radius: 50%;\n",
              "      cursor: pointer;\n",
              "      display: none;\n",
              "      fill: #1967D2;\n",
              "      height: 32px;\n",
              "      padding: 0 0 0 0;\n",
              "      width: 32px;\n",
              "    }\n",
              "\n",
              "    .colab-df-convert:hover {\n",
              "      background-color: #E2EBFA;\n",
              "      box-shadow: 0px 1px 2px rgba(60, 64, 67, 0.3), 0px 1px 3px 1px rgba(60, 64, 67, 0.15);\n",
              "      fill: #174EA6;\n",
              "    }\n",
              "\n",
              "    .colab-df-buttons div {\n",
              "      margin-bottom: 4px;\n",
              "    }\n",
              "\n",
              "    [theme=dark] .colab-df-convert {\n",
              "      background-color: #3B4455;\n",
              "      fill: #D2E3FC;\n",
              "    }\n",
              "\n",
              "    [theme=dark] .colab-df-convert:hover {\n",
              "      background-color: #434B5C;\n",
              "      box-shadow: 0px 1px 3px 1px rgba(0, 0, 0, 0.15);\n",
              "      filter: drop-shadow(0px 1px 2px rgba(0, 0, 0, 0.3));\n",
              "      fill: #FFFFFF;\n",
              "    }\n",
              "  </style>\n",
              "\n",
              "    <script>\n",
              "      const buttonEl =\n",
              "        document.querySelector('#df-71364664-bdf1-47e1-a3f8-c4588d2abcfc button.colab-df-convert');\n",
              "      buttonEl.style.display =\n",
              "        google.colab.kernel.accessAllowed ? 'block' : 'none';\n",
              "\n",
              "      async function convertToInteractive(key) {\n",
              "        const element = document.querySelector('#df-71364664-bdf1-47e1-a3f8-c4588d2abcfc');\n",
              "        const dataTable =\n",
              "          await google.colab.kernel.invokeFunction('convertToInteractive',\n",
              "                                                    [key], {});\n",
              "        if (!dataTable) return;\n",
              "\n",
              "        const docLinkHtml = 'Like what you see? Visit the ' +\n",
              "          '<a target=\"_blank\" href=https://colab.research.google.com/notebooks/data_table.ipynb>data table notebook</a>'\n",
              "          + ' to learn more about interactive tables.';\n",
              "        element.innerHTML = '';\n",
              "        dataTable['output_type'] = 'display_data';\n",
              "        await google.colab.output.renderOutput(dataTable, element);\n",
              "        const docLink = document.createElement('div');\n",
              "        docLink.innerHTML = docLinkHtml;\n",
              "        element.appendChild(docLink);\n",
              "      }\n",
              "    </script>\n",
              "  </div>\n",
              "\n",
              "\n",
              "<div id=\"df-a85cd02b-3b1b-447f-b303-fb80593d4a52\">\n",
              "  <button class=\"colab-df-quickchart\" onclick=\"quickchart('df-a85cd02b-3b1b-447f-b303-fb80593d4a52')\"\n",
              "            title=\"Suggest charts\"\n",
              "            style=\"display:none;\">\n",
              "\n",
              "<svg xmlns=\"http://www.w3.org/2000/svg\" height=\"24px\"viewBox=\"0 0 24 24\"\n",
              "     width=\"24px\">\n",
              "    <g>\n",
              "        <path d=\"M19 3H5c-1.1 0-2 .9-2 2v14c0 1.1.9 2 2 2h14c1.1 0 2-.9 2-2V5c0-1.1-.9-2-2-2zM9 17H7v-7h2v7zm4 0h-2V7h2v10zm4 0h-2v-4h2v4z\"/>\n",
              "    </g>\n",
              "</svg>\n",
              "  </button>\n",
              "\n",
              "<style>\n",
              "  .colab-df-quickchart {\n",
              "      --bg-color: #E8F0FE;\n",
              "      --fill-color: #1967D2;\n",
              "      --hover-bg-color: #E2EBFA;\n",
              "      --hover-fill-color: #174EA6;\n",
              "      --disabled-fill-color: #AAA;\n",
              "      --disabled-bg-color: #DDD;\n",
              "  }\n",
              "\n",
              "  [theme=dark] .colab-df-quickchart {\n",
              "      --bg-color: #3B4455;\n",
              "      --fill-color: #D2E3FC;\n",
              "      --hover-bg-color: #434B5C;\n",
              "      --hover-fill-color: #FFFFFF;\n",
              "      --disabled-bg-color: #3B4455;\n",
              "      --disabled-fill-color: #666;\n",
              "  }\n",
              "\n",
              "  .colab-df-quickchart {\n",
              "    background-color: var(--bg-color);\n",
              "    border: none;\n",
              "    border-radius: 50%;\n",
              "    cursor: pointer;\n",
              "    display: none;\n",
              "    fill: var(--fill-color);\n",
              "    height: 32px;\n",
              "    padding: 0;\n",
              "    width: 32px;\n",
              "  }\n",
              "\n",
              "  .colab-df-quickchart:hover {\n",
              "    background-color: var(--hover-bg-color);\n",
              "    box-shadow: 0 1px 2px rgba(60, 64, 67, 0.3), 0 1px 3px 1px rgba(60, 64, 67, 0.15);\n",
              "    fill: var(--button-hover-fill-color);\n",
              "  }\n",
              "\n",
              "  .colab-df-quickchart-complete:disabled,\n",
              "  .colab-df-quickchart-complete:disabled:hover {\n",
              "    background-color: var(--disabled-bg-color);\n",
              "    fill: var(--disabled-fill-color);\n",
              "    box-shadow: none;\n",
              "  }\n",
              "\n",
              "  .colab-df-spinner {\n",
              "    border: 2px solid var(--fill-color);\n",
              "    border-color: transparent;\n",
              "    border-bottom-color: var(--fill-color);\n",
              "    animation:\n",
              "      spin 1s steps(1) infinite;\n",
              "  }\n",
              "\n",
              "  @keyframes spin {\n",
              "    0% {\n",
              "      border-color: transparent;\n",
              "      border-bottom-color: var(--fill-color);\n",
              "      border-left-color: var(--fill-color);\n",
              "    }\n",
              "    20% {\n",
              "      border-color: transparent;\n",
              "      border-left-color: var(--fill-color);\n",
              "      border-top-color: var(--fill-color);\n",
              "    }\n",
              "    30% {\n",
              "      border-color: transparent;\n",
              "      border-left-color: var(--fill-color);\n",
              "      border-top-color: var(--fill-color);\n",
              "      border-right-color: var(--fill-color);\n",
              "    }\n",
              "    40% {\n",
              "      border-color: transparent;\n",
              "      border-right-color: var(--fill-color);\n",
              "      border-top-color: var(--fill-color);\n",
              "    }\n",
              "    60% {\n",
              "      border-color: transparent;\n",
              "      border-right-color: var(--fill-color);\n",
              "    }\n",
              "    80% {\n",
              "      border-color: transparent;\n",
              "      border-right-color: var(--fill-color);\n",
              "      border-bottom-color: var(--fill-color);\n",
              "    }\n",
              "    90% {\n",
              "      border-color: transparent;\n",
              "      border-bottom-color: var(--fill-color);\n",
              "    }\n",
              "  }\n",
              "</style>\n",
              "\n",
              "  <script>\n",
              "    async function quickchart(key) {\n",
              "      const quickchartButtonEl =\n",
              "        document.querySelector('#' + key + ' button');\n",
              "      quickchartButtonEl.disabled = true;  // To prevent multiple clicks.\n",
              "      quickchartButtonEl.classList.add('colab-df-spinner');\n",
              "      try {\n",
              "        const charts = await google.colab.kernel.invokeFunction(\n",
              "            'suggestCharts', [key], {});\n",
              "      } catch (error) {\n",
              "        console.error('Error during call to suggestCharts:', error);\n",
              "      }\n",
              "      quickchartButtonEl.classList.remove('colab-df-spinner');\n",
              "      quickchartButtonEl.classList.add('colab-df-quickchart-complete');\n",
              "    }\n",
              "    (() => {\n",
              "      let quickchartButtonEl =\n",
              "        document.querySelector('#df-a85cd02b-3b1b-447f-b303-fb80593d4a52 button');\n",
              "      quickchartButtonEl.style.display =\n",
              "        google.colab.kernel.accessAllowed ? 'block' : 'none';\n",
              "    })();\n",
              "  </script>\n",
              "</div>\n",
              "\n",
              "    </div>\n",
              "  </div>\n"
            ],
            "application/vnd.google.colaboratory.intrinsic+json": {
              "type": "dataframe",
              "variable_name": "dataset",
              "summary": "{\n  \"name\": \"dataset\",\n  \"rows\": 889,\n  \"fields\": [\n    {\n      \"column\": \"SEAS\",\n      \"properties\": {\n        \"dtype\": \"category\",\n        \"num_unique_values\": 12,\n        \"samples\": [\n          \"OND\",\n          \"SON\",\n          \"DJF\"\n        ],\n        \"semantic_type\": \"\",\n        \"description\": \"\"\n      }\n    },\n    {\n      \"column\": \"YR\",\n      \"properties\": {\n        \"dtype\": \"number\",\n        \"std\": 21,\n        \"min\": 1950,\n        \"max\": 2024,\n        \"num_unique_values\": 75,\n        \"samples\": [\n          1954,\n          2013,\n          1960\n        ],\n        \"semantic_type\": \"\",\n        \"description\": \"\"\n      }\n    },\n    {\n      \"column\": \"TOTAL\",\n      \"properties\": {\n        \"dtype\": \"number\",\n        \"std\": 0.9432044634418918,\n        \"min\": 24.38,\n        \"max\": 29.26,\n        \"num_unique_values\": 353,\n        \"samples\": [\n          27.21,\n          26.91,\n          27.15\n        ],\n        \"semantic_type\": \"\",\n        \"description\": \"\"\n      }\n    },\n    {\n      \"column\": \"ANOM\",\n      \"properties\": {\n        \"dtype\": \"number\",\n        \"std\": 0.838483535488297,\n        \"min\": -2.03,\n        \"max\": 2.64,\n        \"num_unique_values\": 315,\n        \"samples\": [\n          0.42,\n          0.4,\n          0.79\n        ],\n        \"semantic_type\": \"\",\n        \"description\": \"\"\n      }\n    }\n  ]\n}"
            }
          },
          "metadata": {},
          "execution_count": 3
        }
      ]
    },
    {
      "cell_type": "code",
      "source": [
        "dataset.tail()"
      ],
      "metadata": {
        "colab": {
          "base_uri": "https://localhost:8080/",
          "height": 206
        },
        "id": "ep-nRwNHrnsk",
        "outputId": "18d3be57-9e44-4f88-f2fc-1170031c1c7f"
      },
      "execution_count": 4,
      "outputs": [
        {
          "output_type": "execute_result",
          "data": {
            "text/plain": [
              "    SEAS    YR  TOTAL  ANOM\n",
              "884  ASO  2023  28.32  1.56\n",
              "885  SON  2023  28.49  1.78\n",
              "886  OND  2023  28.60  1.92\n",
              "887  NDJ  2023  28.57  1.95\n",
              "888  DJF  2024  28.44  1.80"
            ],
            "text/html": [
              "\n",
              "  <div id=\"df-cb355707-04cd-4313-9728-3887cf12fa24\" class=\"colab-df-container\">\n",
              "    <div>\n",
              "<style scoped>\n",
              "    .dataframe tbody tr th:only-of-type {\n",
              "        vertical-align: middle;\n",
              "    }\n",
              "\n",
              "    .dataframe tbody tr th {\n",
              "        vertical-align: top;\n",
              "    }\n",
              "\n",
              "    .dataframe thead th {\n",
              "        text-align: right;\n",
              "    }\n",
              "</style>\n",
              "<table border=\"1\" class=\"dataframe\">\n",
              "  <thead>\n",
              "    <tr style=\"text-align: right;\">\n",
              "      <th></th>\n",
              "      <th>SEAS</th>\n",
              "      <th>YR</th>\n",
              "      <th>TOTAL</th>\n",
              "      <th>ANOM</th>\n",
              "    </tr>\n",
              "  </thead>\n",
              "  <tbody>\n",
              "    <tr>\n",
              "      <th>884</th>\n",
              "      <td>ASO</td>\n",
              "      <td>2023</td>\n",
              "      <td>28.32</td>\n",
              "      <td>1.56</td>\n",
              "    </tr>\n",
              "    <tr>\n",
              "      <th>885</th>\n",
              "      <td>SON</td>\n",
              "      <td>2023</td>\n",
              "      <td>28.49</td>\n",
              "      <td>1.78</td>\n",
              "    </tr>\n",
              "    <tr>\n",
              "      <th>886</th>\n",
              "      <td>OND</td>\n",
              "      <td>2023</td>\n",
              "      <td>28.60</td>\n",
              "      <td>1.92</td>\n",
              "    </tr>\n",
              "    <tr>\n",
              "      <th>887</th>\n",
              "      <td>NDJ</td>\n",
              "      <td>2023</td>\n",
              "      <td>28.57</td>\n",
              "      <td>1.95</td>\n",
              "    </tr>\n",
              "    <tr>\n",
              "      <th>888</th>\n",
              "      <td>DJF</td>\n",
              "      <td>2024</td>\n",
              "      <td>28.44</td>\n",
              "      <td>1.80</td>\n",
              "    </tr>\n",
              "  </tbody>\n",
              "</table>\n",
              "</div>\n",
              "    <div class=\"colab-df-buttons\">\n",
              "\n",
              "  <div class=\"colab-df-container\">\n",
              "    <button class=\"colab-df-convert\" onclick=\"convertToInteractive('df-cb355707-04cd-4313-9728-3887cf12fa24')\"\n",
              "            title=\"Convert this dataframe to an interactive table.\"\n",
              "            style=\"display:none;\">\n",
              "\n",
              "  <svg xmlns=\"http://www.w3.org/2000/svg\" height=\"24px\" viewBox=\"0 -960 960 960\">\n",
              "    <path d=\"M120-120v-720h720v720H120Zm60-500h600v-160H180v160Zm220 220h160v-160H400v160Zm0 220h160v-160H400v160ZM180-400h160v-160H180v160Zm440 0h160v-160H620v160ZM180-180h160v-160H180v160Zm440 0h160v-160H620v160Z\"/>\n",
              "  </svg>\n",
              "    </button>\n",
              "\n",
              "  <style>\n",
              "    .colab-df-container {\n",
              "      display:flex;\n",
              "      gap: 12px;\n",
              "    }\n",
              "\n",
              "    .colab-df-convert {\n",
              "      background-color: #E8F0FE;\n",
              "      border: none;\n",
              "      border-radius: 50%;\n",
              "      cursor: pointer;\n",
              "      display: none;\n",
              "      fill: #1967D2;\n",
              "      height: 32px;\n",
              "      padding: 0 0 0 0;\n",
              "      width: 32px;\n",
              "    }\n",
              "\n",
              "    .colab-df-convert:hover {\n",
              "      background-color: #E2EBFA;\n",
              "      box-shadow: 0px 1px 2px rgba(60, 64, 67, 0.3), 0px 1px 3px 1px rgba(60, 64, 67, 0.15);\n",
              "      fill: #174EA6;\n",
              "    }\n",
              "\n",
              "    .colab-df-buttons div {\n",
              "      margin-bottom: 4px;\n",
              "    }\n",
              "\n",
              "    [theme=dark] .colab-df-convert {\n",
              "      background-color: #3B4455;\n",
              "      fill: #D2E3FC;\n",
              "    }\n",
              "\n",
              "    [theme=dark] .colab-df-convert:hover {\n",
              "      background-color: #434B5C;\n",
              "      box-shadow: 0px 1px 3px 1px rgba(0, 0, 0, 0.15);\n",
              "      filter: drop-shadow(0px 1px 2px rgba(0, 0, 0, 0.3));\n",
              "      fill: #FFFFFF;\n",
              "    }\n",
              "  </style>\n",
              "\n",
              "    <script>\n",
              "      const buttonEl =\n",
              "        document.querySelector('#df-cb355707-04cd-4313-9728-3887cf12fa24 button.colab-df-convert');\n",
              "      buttonEl.style.display =\n",
              "        google.colab.kernel.accessAllowed ? 'block' : 'none';\n",
              "\n",
              "      async function convertToInteractive(key) {\n",
              "        const element = document.querySelector('#df-cb355707-04cd-4313-9728-3887cf12fa24');\n",
              "        const dataTable =\n",
              "          await google.colab.kernel.invokeFunction('convertToInteractive',\n",
              "                                                    [key], {});\n",
              "        if (!dataTable) return;\n",
              "\n",
              "        const docLinkHtml = 'Like what you see? Visit the ' +\n",
              "          '<a target=\"_blank\" href=https://colab.research.google.com/notebooks/data_table.ipynb>data table notebook</a>'\n",
              "          + ' to learn more about interactive tables.';\n",
              "        element.innerHTML = '';\n",
              "        dataTable['output_type'] = 'display_data';\n",
              "        await google.colab.output.renderOutput(dataTable, element);\n",
              "        const docLink = document.createElement('div');\n",
              "        docLink.innerHTML = docLinkHtml;\n",
              "        element.appendChild(docLink);\n",
              "      }\n",
              "    </script>\n",
              "  </div>\n",
              "\n",
              "\n",
              "<div id=\"df-b8a123d8-b90d-4b8f-b9ce-452e99d5c7c5\">\n",
              "  <button class=\"colab-df-quickchart\" onclick=\"quickchart('df-b8a123d8-b90d-4b8f-b9ce-452e99d5c7c5')\"\n",
              "            title=\"Suggest charts\"\n",
              "            style=\"display:none;\">\n",
              "\n",
              "<svg xmlns=\"http://www.w3.org/2000/svg\" height=\"24px\"viewBox=\"0 0 24 24\"\n",
              "     width=\"24px\">\n",
              "    <g>\n",
              "        <path d=\"M19 3H5c-1.1 0-2 .9-2 2v14c0 1.1.9 2 2 2h14c1.1 0 2-.9 2-2V5c0-1.1-.9-2-2-2zM9 17H7v-7h2v7zm4 0h-2V7h2v10zm4 0h-2v-4h2v4z\"/>\n",
              "    </g>\n",
              "</svg>\n",
              "  </button>\n",
              "\n",
              "<style>\n",
              "  .colab-df-quickchart {\n",
              "      --bg-color: #E8F0FE;\n",
              "      --fill-color: #1967D2;\n",
              "      --hover-bg-color: #E2EBFA;\n",
              "      --hover-fill-color: #174EA6;\n",
              "      --disabled-fill-color: #AAA;\n",
              "      --disabled-bg-color: #DDD;\n",
              "  }\n",
              "\n",
              "  [theme=dark] .colab-df-quickchart {\n",
              "      --bg-color: #3B4455;\n",
              "      --fill-color: #D2E3FC;\n",
              "      --hover-bg-color: #434B5C;\n",
              "      --hover-fill-color: #FFFFFF;\n",
              "      --disabled-bg-color: #3B4455;\n",
              "      --disabled-fill-color: #666;\n",
              "  }\n",
              "\n",
              "  .colab-df-quickchart {\n",
              "    background-color: var(--bg-color);\n",
              "    border: none;\n",
              "    border-radius: 50%;\n",
              "    cursor: pointer;\n",
              "    display: none;\n",
              "    fill: var(--fill-color);\n",
              "    height: 32px;\n",
              "    padding: 0;\n",
              "    width: 32px;\n",
              "  }\n",
              "\n",
              "  .colab-df-quickchart:hover {\n",
              "    background-color: var(--hover-bg-color);\n",
              "    box-shadow: 0 1px 2px rgba(60, 64, 67, 0.3), 0 1px 3px 1px rgba(60, 64, 67, 0.15);\n",
              "    fill: var(--button-hover-fill-color);\n",
              "  }\n",
              "\n",
              "  .colab-df-quickchart-complete:disabled,\n",
              "  .colab-df-quickchart-complete:disabled:hover {\n",
              "    background-color: var(--disabled-bg-color);\n",
              "    fill: var(--disabled-fill-color);\n",
              "    box-shadow: none;\n",
              "  }\n",
              "\n",
              "  .colab-df-spinner {\n",
              "    border: 2px solid var(--fill-color);\n",
              "    border-color: transparent;\n",
              "    border-bottom-color: var(--fill-color);\n",
              "    animation:\n",
              "      spin 1s steps(1) infinite;\n",
              "  }\n",
              "\n",
              "  @keyframes spin {\n",
              "    0% {\n",
              "      border-color: transparent;\n",
              "      border-bottom-color: var(--fill-color);\n",
              "      border-left-color: var(--fill-color);\n",
              "    }\n",
              "    20% {\n",
              "      border-color: transparent;\n",
              "      border-left-color: var(--fill-color);\n",
              "      border-top-color: var(--fill-color);\n",
              "    }\n",
              "    30% {\n",
              "      border-color: transparent;\n",
              "      border-left-color: var(--fill-color);\n",
              "      border-top-color: var(--fill-color);\n",
              "      border-right-color: var(--fill-color);\n",
              "    }\n",
              "    40% {\n",
              "      border-color: transparent;\n",
              "      border-right-color: var(--fill-color);\n",
              "      border-top-color: var(--fill-color);\n",
              "    }\n",
              "    60% {\n",
              "      border-color: transparent;\n",
              "      border-right-color: var(--fill-color);\n",
              "    }\n",
              "    80% {\n",
              "      border-color: transparent;\n",
              "      border-right-color: var(--fill-color);\n",
              "      border-bottom-color: var(--fill-color);\n",
              "    }\n",
              "    90% {\n",
              "      border-color: transparent;\n",
              "      border-bottom-color: var(--fill-color);\n",
              "    }\n",
              "  }\n",
              "</style>\n",
              "\n",
              "  <script>\n",
              "    async function quickchart(key) {\n",
              "      const quickchartButtonEl =\n",
              "        document.querySelector('#' + key + ' button');\n",
              "      quickchartButtonEl.disabled = true;  // To prevent multiple clicks.\n",
              "      quickchartButtonEl.classList.add('colab-df-spinner');\n",
              "      try {\n",
              "        const charts = await google.colab.kernel.invokeFunction(\n",
              "            'suggestCharts', [key], {});\n",
              "      } catch (error) {\n",
              "        console.error('Error during call to suggestCharts:', error);\n",
              "      }\n",
              "      quickchartButtonEl.classList.remove('colab-df-spinner');\n",
              "      quickchartButtonEl.classList.add('colab-df-quickchart-complete');\n",
              "    }\n",
              "    (() => {\n",
              "      let quickchartButtonEl =\n",
              "        document.querySelector('#df-b8a123d8-b90d-4b8f-b9ce-452e99d5c7c5 button');\n",
              "      quickchartButtonEl.style.display =\n",
              "        google.colab.kernel.accessAllowed ? 'block' : 'none';\n",
              "    })();\n",
              "  </script>\n",
              "</div>\n",
              "\n",
              "    </div>\n",
              "  </div>\n"
            ],
            "application/vnd.google.colaboratory.intrinsic+json": {
              "type": "dataframe",
              "summary": "{\n  \"name\": \"dataset\",\n  \"rows\": 5,\n  \"fields\": [\n    {\n      \"column\": \"SEAS\",\n      \"properties\": {\n        \"dtype\": \"string\",\n        \"num_unique_values\": 5,\n        \"samples\": [\n          \"SON\",\n          \"DJF\",\n          \"OND\"\n        ],\n        \"semantic_type\": \"\",\n        \"description\": \"\"\n      }\n    },\n    {\n      \"column\": \"YR\",\n      \"properties\": {\n        \"dtype\": \"number\",\n        \"std\": 0,\n        \"min\": 2023,\n        \"max\": 2024,\n        \"num_unique_values\": 2,\n        \"samples\": [\n          2024,\n          2023\n        ],\n        \"semantic_type\": \"\",\n        \"description\": \"\"\n      }\n    },\n    {\n      \"column\": \"TOTAL\",\n      \"properties\": {\n        \"dtype\": \"number\",\n        \"std\": 0.11148990985735004,\n        \"min\": 28.32,\n        \"max\": 28.6,\n        \"num_unique_values\": 5,\n        \"samples\": [\n          28.49,\n          28.44\n        ],\n        \"semantic_type\": \"\",\n        \"description\": \"\"\n      }\n    },\n    {\n      \"column\": \"ANOM\",\n      \"properties\": {\n        \"dtype\": \"number\",\n        \"std\": 0.1540129864654276,\n        \"min\": 1.56,\n        \"max\": 1.95,\n        \"num_unique_values\": 5,\n        \"samples\": [\n          1.78,\n          1.8\n        ],\n        \"semantic_type\": \"\",\n        \"description\": \"\"\n      }\n    }\n  ]\n}"
            }
          },
          "metadata": {},
          "execution_count": 4
        }
      ]
    },
    {
      "cell_type": "code",
      "source": [
        "# drop any nans\n",
        "dataset = dataset.dropna(subset=[\"ANOM\"])"
      ],
      "metadata": {
        "id": "5RcTG8sEqmbb"
      },
      "execution_count": 5,
      "outputs": []
    },
    {
      "cell_type": "code",
      "source": [
        "# quick stats\n",
        "dataset.describe()"
      ],
      "metadata": {
        "colab": {
          "base_uri": "https://localhost:8080/",
          "height": 300
        },
        "id": "EipN-1z-vGAZ",
        "outputId": "c0a829bc-e589-4063-dbbe-43084be27475"
      },
      "execution_count": null,
      "outputs": [
        {
          "output_type": "execute_result",
          "data": {
            "text/plain": [
              "                YR       TOTAL        ANOM\n",
              "count   889.000000  889.000000  889.000000\n",
              "mean   1986.542182   26.900157    0.011102\n",
              "std      21.397005    0.943204    0.838484\n",
              "min    1950.000000   24.380000   -2.030000\n",
              "25%    1968.000000   26.230000   -0.570000\n",
              "50%    1987.000000   26.950000   -0.050000\n",
              "75%    2005.000000   27.540000    0.530000\n",
              "max    2024.000000   29.260000    2.640000"
            ],
            "text/html": [
              "\n",
              "  <div id=\"df-1ac879aa-6a3f-4c9d-8d28-e983e7fbd91b\" class=\"colab-df-container\">\n",
              "    <div>\n",
              "<style scoped>\n",
              "    .dataframe tbody tr th:only-of-type {\n",
              "        vertical-align: middle;\n",
              "    }\n",
              "\n",
              "    .dataframe tbody tr th {\n",
              "        vertical-align: top;\n",
              "    }\n",
              "\n",
              "    .dataframe thead th {\n",
              "        text-align: right;\n",
              "    }\n",
              "</style>\n",
              "<table border=\"1\" class=\"dataframe\">\n",
              "  <thead>\n",
              "    <tr style=\"text-align: right;\">\n",
              "      <th></th>\n",
              "      <th>YR</th>\n",
              "      <th>TOTAL</th>\n",
              "      <th>ANOM</th>\n",
              "    </tr>\n",
              "  </thead>\n",
              "  <tbody>\n",
              "    <tr>\n",
              "      <th>count</th>\n",
              "      <td>889.000000</td>\n",
              "      <td>889.000000</td>\n",
              "      <td>889.000000</td>\n",
              "    </tr>\n",
              "    <tr>\n",
              "      <th>mean</th>\n",
              "      <td>1986.542182</td>\n",
              "      <td>26.900157</td>\n",
              "      <td>0.011102</td>\n",
              "    </tr>\n",
              "    <tr>\n",
              "      <th>std</th>\n",
              "      <td>21.397005</td>\n",
              "      <td>0.943204</td>\n",
              "      <td>0.838484</td>\n",
              "    </tr>\n",
              "    <tr>\n",
              "      <th>min</th>\n",
              "      <td>1950.000000</td>\n",
              "      <td>24.380000</td>\n",
              "      <td>-2.030000</td>\n",
              "    </tr>\n",
              "    <tr>\n",
              "      <th>25%</th>\n",
              "      <td>1968.000000</td>\n",
              "      <td>26.230000</td>\n",
              "      <td>-0.570000</td>\n",
              "    </tr>\n",
              "    <tr>\n",
              "      <th>50%</th>\n",
              "      <td>1987.000000</td>\n",
              "      <td>26.950000</td>\n",
              "      <td>-0.050000</td>\n",
              "    </tr>\n",
              "    <tr>\n",
              "      <th>75%</th>\n",
              "      <td>2005.000000</td>\n",
              "      <td>27.540000</td>\n",
              "      <td>0.530000</td>\n",
              "    </tr>\n",
              "    <tr>\n",
              "      <th>max</th>\n",
              "      <td>2024.000000</td>\n",
              "      <td>29.260000</td>\n",
              "      <td>2.640000</td>\n",
              "    </tr>\n",
              "  </tbody>\n",
              "</table>\n",
              "</div>\n",
              "    <div class=\"colab-df-buttons\">\n",
              "\n",
              "  <div class=\"colab-df-container\">\n",
              "    <button class=\"colab-df-convert\" onclick=\"convertToInteractive('df-1ac879aa-6a3f-4c9d-8d28-e983e7fbd91b')\"\n",
              "            title=\"Convert this dataframe to an interactive table.\"\n",
              "            style=\"display:none;\">\n",
              "\n",
              "  <svg xmlns=\"http://www.w3.org/2000/svg\" height=\"24px\" viewBox=\"0 -960 960 960\">\n",
              "    <path d=\"M120-120v-720h720v720H120Zm60-500h600v-160H180v160Zm220 220h160v-160H400v160Zm0 220h160v-160H400v160ZM180-400h160v-160H180v160Zm440 0h160v-160H620v160ZM180-180h160v-160H180v160Zm440 0h160v-160H620v160Z\"/>\n",
              "  </svg>\n",
              "    </button>\n",
              "\n",
              "  <style>\n",
              "    .colab-df-container {\n",
              "      display:flex;\n",
              "      gap: 12px;\n",
              "    }\n",
              "\n",
              "    .colab-df-convert {\n",
              "      background-color: #E8F0FE;\n",
              "      border: none;\n",
              "      border-radius: 50%;\n",
              "      cursor: pointer;\n",
              "      display: none;\n",
              "      fill: #1967D2;\n",
              "      height: 32px;\n",
              "      padding: 0 0 0 0;\n",
              "      width: 32px;\n",
              "    }\n",
              "\n",
              "    .colab-df-convert:hover {\n",
              "      background-color: #E2EBFA;\n",
              "      box-shadow: 0px 1px 2px rgba(60, 64, 67, 0.3), 0px 1px 3px 1px rgba(60, 64, 67, 0.15);\n",
              "      fill: #174EA6;\n",
              "    }\n",
              "\n",
              "    .colab-df-buttons div {\n",
              "      margin-bottom: 4px;\n",
              "    }\n",
              "\n",
              "    [theme=dark] .colab-df-convert {\n",
              "      background-color: #3B4455;\n",
              "      fill: #D2E3FC;\n",
              "    }\n",
              "\n",
              "    [theme=dark] .colab-df-convert:hover {\n",
              "      background-color: #434B5C;\n",
              "      box-shadow: 0px 1px 3px 1px rgba(0, 0, 0, 0.15);\n",
              "      filter: drop-shadow(0px 1px 2px rgba(0, 0, 0, 0.3));\n",
              "      fill: #FFFFFF;\n",
              "    }\n",
              "  </style>\n",
              "\n",
              "    <script>\n",
              "      const buttonEl =\n",
              "        document.querySelector('#df-1ac879aa-6a3f-4c9d-8d28-e983e7fbd91b button.colab-df-convert');\n",
              "      buttonEl.style.display =\n",
              "        google.colab.kernel.accessAllowed ? 'block' : 'none';\n",
              "\n",
              "      async function convertToInteractive(key) {\n",
              "        const element = document.querySelector('#df-1ac879aa-6a3f-4c9d-8d28-e983e7fbd91b');\n",
              "        const dataTable =\n",
              "          await google.colab.kernel.invokeFunction('convertToInteractive',\n",
              "                                                    [key], {});\n",
              "        if (!dataTable) return;\n",
              "\n",
              "        const docLinkHtml = 'Like what you see? Visit the ' +\n",
              "          '<a target=\"_blank\" href=https://colab.research.google.com/notebooks/data_table.ipynb>data table notebook</a>'\n",
              "          + ' to learn more about interactive tables.';\n",
              "        element.innerHTML = '';\n",
              "        dataTable['output_type'] = 'display_data';\n",
              "        await google.colab.output.renderOutput(dataTable, element);\n",
              "        const docLink = document.createElement('div');\n",
              "        docLink.innerHTML = docLinkHtml;\n",
              "        element.appendChild(docLink);\n",
              "      }\n",
              "    </script>\n",
              "  </div>\n",
              "\n",
              "\n",
              "<div id=\"df-a15441c5-66e3-48c4-987c-d81453d055c1\">\n",
              "  <button class=\"colab-df-quickchart\" onclick=\"quickchart('df-a15441c5-66e3-48c4-987c-d81453d055c1')\"\n",
              "            title=\"Suggest charts\"\n",
              "            style=\"display:none;\">\n",
              "\n",
              "<svg xmlns=\"http://www.w3.org/2000/svg\" height=\"24px\"viewBox=\"0 0 24 24\"\n",
              "     width=\"24px\">\n",
              "    <g>\n",
              "        <path d=\"M19 3H5c-1.1 0-2 .9-2 2v14c0 1.1.9 2 2 2h14c1.1 0 2-.9 2-2V5c0-1.1-.9-2-2-2zM9 17H7v-7h2v7zm4 0h-2V7h2v10zm4 0h-2v-4h2v4z\"/>\n",
              "    </g>\n",
              "</svg>\n",
              "  </button>\n",
              "\n",
              "<style>\n",
              "  .colab-df-quickchart {\n",
              "      --bg-color: #E8F0FE;\n",
              "      --fill-color: #1967D2;\n",
              "      --hover-bg-color: #E2EBFA;\n",
              "      --hover-fill-color: #174EA6;\n",
              "      --disabled-fill-color: #AAA;\n",
              "      --disabled-bg-color: #DDD;\n",
              "  }\n",
              "\n",
              "  [theme=dark] .colab-df-quickchart {\n",
              "      --bg-color: #3B4455;\n",
              "      --fill-color: #D2E3FC;\n",
              "      --hover-bg-color: #434B5C;\n",
              "      --hover-fill-color: #FFFFFF;\n",
              "      --disabled-bg-color: #3B4455;\n",
              "      --disabled-fill-color: #666;\n",
              "  }\n",
              "\n",
              "  .colab-df-quickchart {\n",
              "    background-color: var(--bg-color);\n",
              "    border: none;\n",
              "    border-radius: 50%;\n",
              "    cursor: pointer;\n",
              "    display: none;\n",
              "    fill: var(--fill-color);\n",
              "    height: 32px;\n",
              "    padding: 0;\n",
              "    width: 32px;\n",
              "  }\n",
              "\n",
              "  .colab-df-quickchart:hover {\n",
              "    background-color: var(--hover-bg-color);\n",
              "    box-shadow: 0 1px 2px rgba(60, 64, 67, 0.3), 0 1px 3px 1px rgba(60, 64, 67, 0.15);\n",
              "    fill: var(--button-hover-fill-color);\n",
              "  }\n",
              "\n",
              "  .colab-df-quickchart-complete:disabled,\n",
              "  .colab-df-quickchart-complete:disabled:hover {\n",
              "    background-color: var(--disabled-bg-color);\n",
              "    fill: var(--disabled-fill-color);\n",
              "    box-shadow: none;\n",
              "  }\n",
              "\n",
              "  .colab-df-spinner {\n",
              "    border: 2px solid var(--fill-color);\n",
              "    border-color: transparent;\n",
              "    border-bottom-color: var(--fill-color);\n",
              "    animation:\n",
              "      spin 1s steps(1) infinite;\n",
              "  }\n",
              "\n",
              "  @keyframes spin {\n",
              "    0% {\n",
              "      border-color: transparent;\n",
              "      border-bottom-color: var(--fill-color);\n",
              "      border-left-color: var(--fill-color);\n",
              "    }\n",
              "    20% {\n",
              "      border-color: transparent;\n",
              "      border-left-color: var(--fill-color);\n",
              "      border-top-color: var(--fill-color);\n",
              "    }\n",
              "    30% {\n",
              "      border-color: transparent;\n",
              "      border-left-color: var(--fill-color);\n",
              "      border-top-color: var(--fill-color);\n",
              "      border-right-color: var(--fill-color);\n",
              "    }\n",
              "    40% {\n",
              "      border-color: transparent;\n",
              "      border-right-color: var(--fill-color);\n",
              "      border-top-color: var(--fill-color);\n",
              "    }\n",
              "    60% {\n",
              "      border-color: transparent;\n",
              "      border-right-color: var(--fill-color);\n",
              "    }\n",
              "    80% {\n",
              "      border-color: transparent;\n",
              "      border-right-color: var(--fill-color);\n",
              "      border-bottom-color: var(--fill-color);\n",
              "    }\n",
              "    90% {\n",
              "      border-color: transparent;\n",
              "      border-bottom-color: var(--fill-color);\n",
              "    }\n",
              "  }\n",
              "</style>\n",
              "\n",
              "  <script>\n",
              "    async function quickchart(key) {\n",
              "      const quickchartButtonEl =\n",
              "        document.querySelector('#' + key + ' button');\n",
              "      quickchartButtonEl.disabled = true;  // To prevent multiple clicks.\n",
              "      quickchartButtonEl.classList.add('colab-df-spinner');\n",
              "      try {\n",
              "        const charts = await google.colab.kernel.invokeFunction(\n",
              "            'suggestCharts', [key], {});\n",
              "      } catch (error) {\n",
              "        console.error('Error during call to suggestCharts:', error);\n",
              "      }\n",
              "      quickchartButtonEl.classList.remove('colab-df-spinner');\n",
              "      quickchartButtonEl.classList.add('colab-df-quickchart-complete');\n",
              "    }\n",
              "    (() => {\n",
              "      let quickchartButtonEl =\n",
              "        document.querySelector('#df-a15441c5-66e3-48c4-987c-d81453d055c1 button');\n",
              "      quickchartButtonEl.style.display =\n",
              "        google.colab.kernel.accessAllowed ? 'block' : 'none';\n",
              "    })();\n",
              "  </script>\n",
              "</div>\n",
              "    </div>\n",
              "  </div>\n"
            ],
            "application/vnd.google.colaboratory.intrinsic+json": {
              "type": "dataframe",
              "summary": "{\n  \"name\": \"dataset\",\n  \"rows\": 8,\n  \"fields\": [\n    {\n      \"column\": \"YR\",\n      \"properties\": {\n        \"dtype\": \"number\",\n        \"std\": 746.2571004228232,\n        \"min\": 21.397005246548172,\n        \"max\": 2024.0,\n        \"num_unique_values\": 8,\n        \"samples\": [\n          1986.5421822272217,\n          1987.0,\n          889.0\n        ],\n        \"semantic_type\": \"\",\n        \"description\": \"\"\n      }\n    },\n    {\n      \"column\": \"TOTAL\",\n      \"properties\": {\n        \"dtype\": \"number\",\n        \"std\": 306.2539197619456,\n        \"min\": 0.9432044634418918,\n        \"max\": 889.0,\n        \"num_unique_values\": 8,\n        \"samples\": [\n          26.90015748031496,\n          26.95,\n          889.0\n        ],\n        \"semantic_type\": \"\",\n        \"description\": \"\"\n      }\n    },\n    {\n      \"column\": \"ANOM\",\n      \"properties\": {\n        \"dtype\": \"number\",\n        \"std\": 314.2425478242308,\n        \"min\": -2.03,\n        \"max\": 889.0,\n        \"num_unique_values\": 8,\n        \"samples\": [\n          0.011102362204724407,\n          -0.05,\n          889.0\n        ],\n        \"semantic_type\": \"\",\n        \"description\": \"\"\n      }\n    }\n  ]\n}"
            }
          },
          "metadata": {},
          "execution_count": 6
        }
      ]
    },
    {
      "cell_type": "code",
      "source": [
        "# quick viz\n",
        "# djf only\n",
        "dataset[dataset[\"SEAS\"]==\"DJF\"].plot(\"YR\",\"ANOM\")"
      ],
      "metadata": {
        "colab": {
          "base_uri": "https://localhost:8080/",
          "height": 467
        },
        "id": "3QEaavkavtQG",
        "outputId": "b6d00df3-3ec3-4448-b39d-0770d6db54d6"
      },
      "execution_count": 6,
      "outputs": [
        {
          "output_type": "execute_result",
          "data": {
            "text/plain": [
              "<Axes: xlabel='YR'>"
            ]
          },
          "metadata": {},
          "execution_count": 6
        },
        {
          "output_type": "display_data",
          "data": {
            "text/plain": [
              "<Figure size 640x480 with 1 Axes>"
            ],
            "image/png": "[encoded data removed]"
          },
          "metadata": {}
        }
      ]
    },
    {
      "cell_type": "code",
      "source": [
        "# train test split by years\n",
        "trainds = dataset[dataset[\"YR\"]<=2010]\n",
        "testsds = dataset[dataset[\"YR\"]>2010]"
      ],
      "metadata": {
        "id": "NtRnXk5nwQbP"
      },
      "execution_count": 7,
      "outputs": []
    },
    {
      "cell_type": "code",
      "source": [
        "# grab anoms columns (ONI) and reset index\n",
        "# reshape to be (samples, features)\n",
        "# number of features here is just 1 (ONI)\n",
        "trainds = trainds.reset_index(drop=True)[\"ANOM\"].values.reshape(-1, 1)\n",
        "testsds = testsds.reset_index(drop=True)[\"ANOM\"].values.reshape(-1, 1)"
      ],
      "metadata": {
        "id": "_O7iYwVZvEyB"
      },
      "execution_count": 8,
      "outputs": []
    },
    {
      "cell_type": "code",
      "source": [
        "# checking shapes -- make sure (samples, features)\n",
        "print(trainds.shape, testsds.shape)"
      ],
      "metadata": {
        "colab": {
          "base_uri": "https://localhost:8080/"
        },
        "id": "-qRzFiAK5oln",
        "outputId": "c6709a05-6be5-4521-d1b7-e184aadf071b"
      },
      "execution_count": 9,
      "outputs": [
        {
          "output_type": "stream",
          "name": "stdout",
          "text": [
            "(732, 1) (157, 1)\n"
          ]
        }
      ]
    },
    {
      "cell_type": "code",
      "source": [
        "# Feature Scaling\n",
        "sc = MinMaxScaler(feature_range=(0,1))"
      ],
      "metadata": {
        "id": "7S-QdRBHmCjm"
      },
      "execution_count": 10,
      "outputs": []
    },
    {
      "cell_type": "code",
      "source": [
        "# do rescaling\n",
        "trainds_scaled = sc.fit_transform(trainds)\n",
        "testsds_scaled = sc.transform(testsds)"
      ],
      "metadata": {
        "id": "a6M2k9RF8cXZ"
      },
      "execution_count": 11,
      "outputs": []
    },
    {
      "cell_type": "markdown",
      "source": [
        "# Many-to-One LSTM"
      ],
      "metadata": {
        "id": "_1L5-a5eb3TK"
      }
    },
    {
      "cell_type": "code",
      "source": [
        "# for help with data manipulation for time series rnn training; we can use the time series generator from keras\n",
        "\n",
        "# dummy input for understanding\n",
        "# data = np.array([[i] for i in range(50)])\n",
        "\n",
        "# here goes our training data\n",
        "data = trainds_scaled\n",
        "\n",
        "# the shape of your target is your prediction shape (e.g., here we make it 1)\n",
        "target = data\n",
        "\n",
        "# the length of the input feature\n",
        "n_input=4 # you can change this! doesn't HAVE to be 4 months input\n",
        "n_features=data.shape[1]\n",
        "\n",
        "# this is the generator that will go into our rnn for training\n",
        "data_gen = TimeseriesGenerator(data,\n",
        "                               target,\n",
        "                               length=n_input,\n",
        "                               sampling_rate=1,\n",
        "                               batch_size=16, # you can try different batch sizes\n",
        "                               shuffle=True)"
      ],
      "metadata": {
        "id": "zUb6c5liFwG5"
      },
      "execution_count": 12,
      "outputs": []
    },
    {
      "cell_type": "code",
      "source": [
        "# check shapes\n",
        "print(data.shape, target.shape, n_features)"
      ],
      "metadata": {
        "colab": {
          "base_uri": "https://localhost:8080/"
        },
        "id": "FreObmKXt8Fc",
        "outputId": "708e0a28-1822-4727-913f-87f19b991bf5"
      },
      "execution_count": 13,
      "outputs": [
        {
          "output_type": "stream",
          "name": "stdout",
          "text": [
            "(732, 1) (732, 1) 1\n"
          ]
        }
      ]
    },
    {
      "cell_type": "code",
      "source": [
        "# quick check of output\n",
        "batch_0 = data_gen[0]\n",
        "x, y = batch_0\n",
        "print(x[0], y[0])\n",
        "print(x.shape, y.shape)"
      ],
      "metadata": {
        "colab": {
          "base_uri": "https://localhost:8080/"
        },
        "id": "0KThyhWlzXq6",
        "outputId": "a8ef8428-02f2-42a4-853e-fe394c5d6518"
      },
      "execution_count": 14,
      "outputs": [
        {
          "output_type": "stream",
          "name": "stdout",
          "text": [
            "[[0.36794582]\n",
            " [0.35665914]\n",
            " [0.3476298 ]\n",
            " [0.34537246]] [0.37697517]\n",
            "(16, 4, 1) (16, 1)\n"
          ]
        }
      ]
    },
    {
      "cell_type": "code",
      "source": [
        "# many-to-one example\n",
        "# lets make our rnn!\n",
        "regressor = Sequential()\n",
        "\n",
        "# LSTM; input shape is 1 (for one time step at a time) and n_features which is also 1 for our toy example\n",
        "regressor.add(keras.layers.Input(shape=(1, n_features), batch_size=16))\n",
        "\n",
        "# don't return sequence; just the last output of the input sequence\n",
        "regressor.add(LSTM(units=1, return_sequences=False))\n",
        "\n",
        "# one neuron for output prediction\n",
        "regressor.add(Dense(1))\n",
        "regressor.add(Activation('linear'))\n",
        "\n",
        "# compile model\n",
        "regressor.compile(optimizer='adam', loss='mean_squared_error', metrics=['mse', 'mae'])\n",
        "\n",
        "# what does graph look like?\n",
        "regressor.summary()"
      ],
      "metadata": {
        "id": "dCWIVnYxmCau",
        "colab": {
          "base_uri": "https://localhost:8080/"
        },
        "outputId": "9c5acff8-c92d-4767-e299-d7f94cc27472"
      },
      "execution_count": 27,
      "outputs": [
        {
          "output_type": "stream",
          "name": "stdout",
          "text": [
            "Model: \"sequential_2\"\n",
            "_________________________________________________________________\n",
            " Layer (type)                Output Shape              Param #   \n",
            "=================================================================\n",
            " lstm_3 (LSTM)               (16, 1)                   12        \n",
            "                                                                 \n",
            " dense_2 (Dense)             (16, 1)                   2         \n",
            "                                                                 \n",
            " activation_2 (Activation)   (16, 1)                   0         \n",
            "                                                                 \n",
            "=================================================================\n",
            "Total params: 14 (56.00 Byte)\n",
            "Trainable params: 14 (56.00 Byte)\n",
            "Non-trainable params: 0 (0.00 Byte)\n",
            "_________________________________________________________________\n"
          ]
        }
      ]
    },
    {
      "cell_type": "code",
      "source": [
        "# train the lstm!\n",
        "regressor.fit(data_gen, epochs=20)"
      ],
      "metadata": {
        "colab": {
          "base_uri": "https://localhost:8080/"
        },
        "id": "Aue4JDCWyy9L",
        "outputId": "cbaa86bd-2981-4402-dcf3-33b8d4513724"
      },
      "execution_count": 28,
      "outputs": [
        {
          "output_type": "stream",
          "name": "stdout",
          "text": [
            "Epoch 1/20\n",
            "46/46 [==============================] - 3s 4ms/step - loss: 0.0820 - mse: 0.0820 - mae: 0.2497\n",
            "Epoch 2/20\n",
            "46/46 [==============================] - 0s 3ms/step - loss: 0.0433 - mse: 0.0433 - mae: 0.1657\n",
            "Epoch 3/20\n",
            "46/46 [==============================] - 0s 4ms/step - loss: 0.0254 - mse: 0.0254 - mae: 0.1225\n",
            "Epoch 4/20\n",
            "46/46 [==============================] - 0s 4ms/step - loss: 0.0196 - mse: 0.0196 - mae: 0.1078\n",
            "Epoch 5/20\n",
            "46/46 [==============================] - 0s 4ms/step - loss: 0.0198 - mse: 0.0198 - mae: 0.1089\n",
            "Epoch 6/20\n",
            "46/46 [==============================] - 0s 4ms/step - loss: 0.0186 - mse: 0.0186 - mae: 0.1051\n",
            "Epoch 7/20\n",
            "46/46 [==============================] - 0s 4ms/step - loss: 0.0181 - mse: 0.0181 - mae: 0.1033\n",
            "Epoch 8/20\n",
            "46/46 [==============================] - 0s 4ms/step - loss: 0.0173 - mse: 0.0173 - mae: 0.1018\n",
            "Epoch 9/20\n",
            "46/46 [==============================] - 0s 4ms/step - loss: 0.0160 - mse: 0.0160 - mae: 0.0974\n",
            "Epoch 10/20\n",
            "46/46 [==============================] - 0s 4ms/step - loss: 0.0149 - mse: 0.0149 - mae: 0.0931\n",
            "Epoch 11/20\n",
            "46/46 [==============================] - 0s 4ms/step - loss: 0.0156 - mse: 0.0156 - mae: 0.0950\n",
            "Epoch 12/20\n",
            "46/46 [==============================] - 0s 4ms/step - loss: 0.0146 - mse: 0.0146 - mae: 0.0936\n",
            "Epoch 13/20\n",
            "46/46 [==============================] - 0s 4ms/step - loss: 0.0137 - mse: 0.0137 - mae: 0.0892\n",
            "Epoch 14/20\n",
            "46/46 [==============================] - 0s 4ms/step - loss: 0.0140 - mse: 0.0140 - mae: 0.0905\n",
            "Epoch 15/20\n",
            "46/46 [==============================] - 0s 3ms/step - loss: 0.0145 - mse: 0.0145 - mae: 0.0930\n",
            "Epoch 16/20\n",
            "46/46 [==============================] - 0s 4ms/step - loss: 0.0135 - mse: 0.0135 - mae: 0.0903\n",
            "Epoch 17/20\n",
            "46/46 [==============================] - 0s 4ms/step - loss: 0.0136 - mse: 0.0136 - mae: 0.0900\n",
            "Epoch 18/20\n",
            "46/46 [==============================] - 0s 4ms/step - loss: 0.0134 - mse: 0.0134 - mae: 0.0884\n",
            "Epoch 19/20\n",
            "46/46 [==============================] - 0s 4ms/step - loss: 0.0129 - mse: 0.0129 - mae: 0.0866\n",
            "Epoch 20/20\n",
            "46/46 [==============================] - 0s 4ms/step - loss: 0.0131 - mse: 0.0131 - mae: 0.0890\n"
          ]
        },
        {
          "output_type": "execute_result",
          "data": {
            "text/plain": [
              "<keras.src.callbacks.History at 0x7e1f03fd3be0>"
            ]
          },
          "metadata": {},
          "execution_count": 28
        }
      ]
    },
    {
      "cell_type": "code",
      "source": [
        "# here goes our testing data that was already scaled\n",
        "testdata = testsds_scaled\n",
        "\n",
        "testtarget = testdata\n",
        "\n",
        "testdata_gen = TimeseriesGenerator(\n",
        "    testdata,\n",
        "    testtarget,\n",
        "    length=n_input,\n",
        "    sampling_rate=1,\n",
        "    batch_size=testdata.shape[0], # all samples\n",
        "    shuffle=False)"
      ],
      "metadata": {
        "id": "VvqyVkKR9OgI"
      },
      "execution_count": 30,
      "outputs": []
    },
    {
      "cell_type": "code",
      "source": [
        "# quick check of output\n",
        "batch_0 = testdata_gen[0]\n",
        "x, y = batch_0\n",
        "print(x[0], y[0])\n",
        "print(x.shape, y.shape)"
      ],
      "metadata": {
        "colab": {
          "base_uri": "https://localhost:8080/"
        },
        "id": "yD-8nXD4-rZu",
        "outputId": "890b7be7-80ca-48d2-8a37-6862d88161f4"
      },
      "execution_count": 31,
      "outputs": [
        {
          "output_type": "stream",
          "name": "stdout",
          "text": [
            "[[0.13769752]\n",
            " [0.18961625]\n",
            " [0.248307  ]\n",
            " [0.29345372]] [0.33408578]\n",
            "(153, 4, 1) (153, 1)\n"
          ]
        }
      ]
    },
    {
      "cell_type": "code",
      "source": [
        "# predict using test data\n",
        "oni_predictions = regressor.predict(testdata_gen)"
      ],
      "metadata": {
        "id": "DPA3UGBsmCXX",
        "colab": {
          "base_uri": "https://localhost:8080/"
        },
        "outputId": "ea113f40-fe1a-4bef-9ffd-3f32cf61e9c4"
      },
      "execution_count": 32,
      "outputs": [
        {
          "output_type": "stream",
          "name": "stdout",
          "text": [
            "1/1 [==============================] - 0s 443ms/step\n"
          ]
        }
      ]
    },
    {
      "cell_type": "code",
      "source": [
        "# quick check that we have a match of shapes\n",
        "print(oni_predictions.shape, y.shape)"
      ],
      "metadata": {
        "colab": {
          "base_uri": "https://localhost:8080/"
        },
        "id": "dHY10TFu_Hp5",
        "outputId": "912811f7-fbb1-485e-818b-db2acdb6f58b"
      },
      "execution_count": 33,
      "outputs": [
        {
          "output_type": "stream",
          "name": "stdout",
          "text": [
            "(153, 1) (153, 1)\n"
          ]
        }
      ]
    },
    {
      "cell_type": "code",
      "source": [
        "# how did we do!?\n",
        "plt.scatter(\n",
        "    sc.inverse_transform(y).reshape(-1),\n",
        "    sc.inverse_transform(oni_predictions).reshape(-1)\n",
        "    )\n",
        "plt.xlim([-3,3])\n",
        "plt.ylim([-3,3])\n",
        "plt.show()"
      ],
      "metadata": {
        "colab": {
          "base_uri": "https://localhost:8080/",
          "height": 435
        },
        "id": "ZPeSf6qzGrd1",
        "outputId": "f09213c0-84ac-41dd-dceb-9cf2d1cdfbb8"
      },
      "execution_count": 34,
      "outputs": [
        {
          "output_type": "display_data",
          "data": {
            "text/plain": [
              "<Figure size 640x480 with 1 Axes>"
            ],
            "image/png": "[encoded data removed]"
          },
          "metadata": {}
        }
      ]
    },
    {
      "cell_type": "markdown",
      "source": [
        "# Many-to-Many LSTM"
      ],
      "metadata": {
        "id": "ydKfkPRzfuLD"
      }
    },
    {
      "cell_type": "code",
      "source": [
        "# redoing data preprocessing steps here more quickly\n",
        "\n",
        "# reading dataset from NOAA online\n",
        "dataset = pd.read_csv(\n",
        "    'http://www.cpc.ncep.noaa.gov/data/indices/oni.ascii.txt',\n",
        "    delim_whitespace=True)\n",
        "\n",
        "# drop any nans\n",
        "dataset = dataset.dropna(subset=[\"ANOM\"])\n",
        "\n",
        "# train test split by years\n",
        "trainds = dataset[dataset[\"YR\"]<=2010]\n",
        "testsds = dataset[dataset[\"YR\"]>2010]\n",
        "\n",
        "# grab anoms columns (ONI) and reset index\n",
        "# reshape to be (samples, features)\n",
        "# number of features here is just 1 (ONI)\n",
        "trainds = trainds.reset_index(drop=True)[\"ANOM\"].values.reshape(-1, 1)\n",
        "testsds = testsds.reset_index(drop=True)[\"ANOM\"].values.reshape(-1, 1)\n",
        "\n",
        "# Feature Scaling\n",
        "sc = MinMaxScaler(feature_range=(0,1))\n",
        "\n",
        "# do rescaling\n",
        "trainds_scaled = sc.fit_transform(trainds)\n",
        "testsds_scaled = sc.transform(testsds)"
      ],
      "metadata": {
        "id": "HyKsK1p2frBp"
      },
      "execution_count": 35,
      "outputs": []
    },
    {
      "cell_type": "code",
      "source": [
        "# for help with data manipulation for time series rnn training; we can use the time series generator from keras\n",
        "\n",
        "# dummy input for understanding\n",
        "# data = np.array([[i] for i in range(50)])\n",
        "\n",
        "# here goes our training data\n",
        "data = trainds_scaled\n",
        "\n",
        "# the shape of your target is your prediction shape\n",
        "target = np.concatenate((np.roll(data, 0, axis=0),\n",
        "                         np.roll(data, -1, axis=0),\n",
        "                         np.roll(data, -2, axis=0),\n",
        "                         #np.roll(data, -3, axis=0)\n",
        "                        ), axis=1)\n",
        "\n",
        "# the length of the input feature\n",
        "n_input=4\n",
        "n_features=data.shape[1]\n",
        "n_pred=target.shape[1]\n",
        "\n",
        "# this is the generator that will go into our rnn for training\n",
        "data_gen = TimeseriesGenerator(data,\n",
        "                               target,\n",
        "                               length=n_input,\n",
        "                               sampling_rate=1,\n",
        "                               batch_size=16,\n",
        "                               shuffle=True)"
      ],
      "metadata": {
        "id": "780eNEwefrJt"
      },
      "execution_count": 36,
      "outputs": []
    },
    {
      "cell_type": "code",
      "source": [
        "# quick check of output\n",
        "batch_0 = data_gen[0]\n",
        "x, y = batch_0\n",
        "print(x[0], y[0])\n",
        "print(x.shape, y.shape, n_features)"
      ],
      "metadata": {
        "colab": {
          "base_uri": "https://localhost:8080/"
        },
        "id": "UFMqsQTdfrM2",
        "outputId": "e5d412a7-432a-4259-8482-786e3796758e"
      },
      "execution_count": 37,
      "outputs": [
        {
          "output_type": "stream",
          "name": "stdout",
          "text": [
            "[[0.46501129]\n",
            " [0.48758465]\n",
            " [0.51241535]\n",
            " [0.51918736]] [0.503386   0.48532731 0.46952596]\n",
            "(16, 4, 1) (16, 3) 1\n"
          ]
        }
      ]
    },
    {
      "cell_type": "code",
      "source": [
        "# many-to-many example\n",
        "\n",
        "# lets make our rnn!\n",
        "regressor = Sequential()\n",
        "\n",
        "# LSTM; input shape is 1 (for one time step at a time) and n_features which is also 1 for our toy example\n",
        "regressor.add(keras.layers.Input(shape=(1, n_features), batch_size=16))\n",
        "\n",
        "# encoder is needed because we are using many to predict future manys\n",
        "# return sequence\n",
        "regressor.add(LSTM(units=50, return_sequences=False))\n",
        "\n",
        "# one neuron for output prediction needs to be repeated for each future many prediction\n",
        "regressor.add(RepeatVector(n_pred))\n",
        "\n",
        "# decoder to predict; return each prediction so return_sequence=True\n",
        "# return sequence\n",
        "##regressor.add(LSTM(units=50, return_sequences=True))\n",
        "\n",
        "# predict 1 value per returned sequence value\n",
        "regressor.add(TimeDistributed(Dense(1)))\n",
        "regressor.add(Dense(1))\n",
        "regressor.add(Activation('linear'))\n",
        "\n",
        "# compile model\n",
        "regressor.compile(optimizer='adam', loss='mean_squared_error', metrics=['mse', 'mae'])\n",
        "\n",
        "# what does graph look like?\n",
        "regressor.summary()"
      ],
      "metadata": {
        "id": "6FVy06vcfrPe"
      },
      "execution_count": null,
      "outputs": []
    },
    {
      "cell_type": "code",
      "source": [
        "# train the lstm!\n",
        "regressor.fit(data_gen, epochs=20)"
      ],
      "metadata": {
        "colab": {
          "base_uri": "https://localhost:8080/"
        },
        "id": "kaipkME-hYxO",
        "outputId": "d42d5849-8c76-4ac5-a48d-bbc64d9022c8"
      },
      "execution_count": 46,
      "outputs": [
        {
          "output_type": "stream",
          "name": "stdout",
          "text": [
            "Epoch 1/20\n",
            "46/46 [==============================] - 3s 5ms/step - loss: 0.0967 - mse: 0.0967 - mae: 0.2510\n",
            "Epoch 2/20\n",
            "46/46 [==============================] - 0s 5ms/step - loss: 0.0165 - mse: 0.0165 - mae: 0.0968\n",
            "Epoch 3/20\n",
            "46/46 [==============================] - 0s 5ms/step - loss: 0.0179 - mse: 0.0179 - mae: 0.1003\n",
            "Epoch 4/20\n",
            "46/46 [==============================] - 0s 5ms/step - loss: 0.0182 - mse: 0.0182 - mae: 0.1019\n",
            "Epoch 5/20\n",
            "46/46 [==============================] - 0s 5ms/step - loss: 0.0175 - mse: 0.0175 - mae: 0.1036\n",
            "Epoch 6/20\n",
            "46/46 [==============================] - 0s 5ms/step - loss: 0.0171 - mse: 0.0171 - mae: 0.1005\n",
            "Epoch 7/20\n",
            "46/46 [==============================] - 0s 5ms/step - loss: 0.0165 - mse: 0.0165 - mae: 0.0994\n",
            "Epoch 8/20\n",
            "46/46 [==============================] - 0s 5ms/step - loss: 0.0152 - mse: 0.0152 - mae: 0.0959\n",
            "Epoch 9/20\n",
            "46/46 [==============================] - 0s 7ms/step - loss: 0.0146 - mse: 0.0146 - mae: 0.0924\n",
            "Epoch 10/20\n",
            "46/46 [==============================] - 0s 7ms/step - loss: 0.0151 - mse: 0.0151 - mae: 0.0942\n",
            "Epoch 11/20\n",
            "46/46 [==============================] - 0s 8ms/step - loss: 0.0145 - mse: 0.0145 - mae: 0.0951\n",
            "Epoch 12/20\n",
            "46/46 [==============================] - 0s 6ms/step - loss: 0.0151 - mse: 0.0151 - mae: 0.0947\n",
            "Epoch 13/20\n",
            "46/46 [==============================] - 0s 4ms/step - loss: 0.0141 - mse: 0.0141 - mae: 0.0913\n",
            "Epoch 14/20\n",
            "46/46 [==============================] - 0s 5ms/step - loss: 0.0136 - mse: 0.0136 - mae: 0.0898\n",
            "Epoch 15/20\n",
            "46/46 [==============================] - 0s 5ms/step - loss: 0.0103 - mse: 0.0103 - mae: 0.0774\n",
            "Epoch 16/20\n",
            "46/46 [==============================] - 0s 5ms/step - loss: 0.0108 - mse: 0.0108 - mae: 0.0793\n",
            "Epoch 17/20\n",
            "46/46 [==============================] - 0s 5ms/step - loss: 0.0089 - mse: 0.0089 - mae: 0.0727\n",
            "Epoch 18/20\n",
            "46/46 [==============================] - 0s 5ms/step - loss: 0.0081 - mse: 0.0081 - mae: 0.0703\n",
            "Epoch 19/20\n",
            "46/46 [==============================] - 0s 5ms/step - loss: 0.0070 - mse: 0.0070 - mae: 0.0633\n",
            "Epoch 20/20\n",
            "46/46 [==============================] - 0s 5ms/step - loss: 0.0067 - mse: 0.0067 - mae: 0.0637\n"
          ]
        },
        {
          "output_type": "execute_result",
          "data": {
            "text/plain": [
              "<keras.src.callbacks.History at 0x7e1f11be2f50>"
            ]
          },
          "metadata": {},
          "execution_count": 46
        }
      ]
    },
    {
      "cell_type": "code",
      "source": [
        "# here goes our testing data\n",
        "testdata = testsds_scaled\n",
        "\n",
        "# make sure you make this match your training target\n",
        "testtarget = np.concatenate((\n",
        "    np.roll(testdata, 0, axis=0),\n",
        "    np.roll(testdata, -1, axis=0),\n",
        "    np.roll(testdata, -2, axis=0),\n",
        "    #np.roll(testdata, -3, axis=0)\n",
        "    ), axis=1)\n",
        "\n",
        "testdata_gen = TimeseriesGenerator(\n",
        "    testdata,\n",
        "    testtarget,\n",
        "    length=n_input,\n",
        "    sampling_rate=1,\n",
        "    batch_size=testdata.shape[0], # all samples\n",
        "    shuffle=False)"
      ],
      "metadata": {
        "id": "3_b36aCChZPy"
      },
      "execution_count": 47,
      "outputs": []
    },
    {
      "cell_type": "code",
      "source": [
        "# quick check of output\n",
        "batch_0 = testdata_gen[0]\n",
        "x, y = batch_0\n",
        "print(x[0], y[0])\n",
        "print(x.shape, y.shape)"
      ],
      "metadata": {
        "colab": {
          "base_uri": "https://localhost:8080/"
        },
        "id": "Pa9VaqHPiDoE",
        "outputId": "4575c2f5-c2ad-4728-e991-8a3fd2cca1c2"
      },
      "execution_count": 48,
      "outputs": [
        {
          "output_type": "stream",
          "name": "stdout",
          "text": [
            "[[0.13769752]\n",
            " [0.18961625]\n",
            " [0.248307  ]\n",
            " [0.29345372]] [0.33408578 0.35891648 0.34988713]\n",
            "(153, 4, 1) (153, 3)\n"
          ]
        }
      ]
    },
    {
      "cell_type": "code",
      "source": [
        "# make predictions\n",
        "oni_predictions = regressor.predict(testdata_gen)"
      ],
      "metadata": {
        "colab": {
          "base_uri": "https://localhost:8080/"
        },
        "id": "4ZQlHOxuh0Zy",
        "outputId": "4d4cc3da-3362-4bba-86cf-86236929bc49"
      },
      "execution_count": 49,
      "outputs": [
        {
          "output_type": "stream",
          "name": "stdout",
          "text": [
            "1/1 [==============================] - 0s 484ms/step\n"
          ]
        }
      ]
    },
    {
      "cell_type": "code",
      "source": [
        "# check shapes match\n",
        "print(oni_predictions.shape, y.shape)"
      ],
      "metadata": {
        "colab": {
          "base_uri": "https://localhost:8080/"
        },
        "id": "tIHWVyFIFBxt",
        "outputId": "57493411-e36d-458f-d2b7-766d92d29eab"
      },
      "execution_count": 50,
      "outputs": [
        {
          "output_type": "stream",
          "name": "stdout",
          "text": [
            "(153, 3, 1) (153, 3)\n"
          ]
        }
      ]
    },
    {
      "cell_type": "code",
      "source": [
        "for i in range(0, n_pred):\n",
        "    # how did we do!?\n",
        "    plt.scatter(\n",
        "        sc.inverse_transform(y[:, i].reshape(-1, 1)).reshape(-1),\n",
        "        sc.inverse_transform(oni_predictions[:, i].reshape(-1, 1)).reshape(-1)\n",
        "        )\n",
        "    plt.xlim([-3,3])\n",
        "    plt.ylim([-3,3])\n",
        "    plt.show()"
      ],
      "metadata": {
        "colab": {
          "base_uri": "https://localhost:8080/",
          "height": 1000
        },
        "id": "WMaxU9aZkjFP",
        "outputId": "e82322c4-97a7-4b75-ce88-a76c54605077"
      },
      "execution_count": 51,
      "outputs": [
        {
          "output_type": "display_data",
          "data": {
            "text/plain": [
              "<Figure size 640x480 with 1 Axes>"
            ],
            "image/png": "[encoded data removed]"
          },
          "metadata": {}
        },
        {
          "output_type": "display_data",
          "data": {
            "text/plain": [
              "<Figure size 640x480 with 1 Axes>"
            ],
            "image/png": "[encoded data removed]"
          },
          "metadata": {}
        },
        {
          "output_type": "display_data",
          "data": {
            "text/plain": [
              "<Figure size 640x480 with 1 Axes>"
            ],
            "image/png": "[encoded data removed]"
          },
          "metadata": {}
        }
      ]
    },
    {
      "cell_type": "code",
      "source": [],
      "metadata": {
        "id": "aZz0E1tTmlaI"
      },
      "execution_count": null,
      "outputs": []
    }
  ]
}